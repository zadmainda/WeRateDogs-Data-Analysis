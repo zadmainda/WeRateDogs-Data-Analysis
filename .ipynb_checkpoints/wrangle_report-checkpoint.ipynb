{
 "cells": [
  {
   "cell_type": "markdown",
   "metadata": {},
   "source": [
    "## Reporting: wrangle_report\n"
   ]
  },
  {
   "cell_type": "markdown",
   "metadata": {},
   "source": [
    "\n",
    "<p>Data for this project was retrieved from three different source. The first batch was retrieved from a CSV file (twitter-archive-enhanced.csv). This file was downloaded and loaded into dataframe called archives_df using the pandas read_csv method. The second batch was downloaded   pragmatically using the requests library and written into a predictions.tsv file that was stored in the project’s root folder. The Pandas’ read_csv method was subsequently used to read the data from the file that it was saved into predictions_df dataFrame. The last batch of data was retrieved from a text file that contained JSON data. I used the glob module to find text files in my working directory, the used a For Loop together with the Python readline() method to read each line of the file. I then converted what was read using the readline method into a json Object that I later parsed into a Python dictionary object.</p>\n",
    "<p>After testing and ensuring that I had loaded all the datasets correctly into their respective dataframes, I proceeded with assessing the 1st data from the archives CSV file both visually and programmatically. I used the pandas.DataFrame.sample method to get a visual representation of how the rows were populated. I noticed that some columns had populated entirely by NULL values. On using the pandas. I noted this down as one of the data quality that were to be rectified.</p>\n",
    "<p>\n",
    "I used the DataFrame.info() and the DataFrame.shape methods to get a summary of the columns and their respective data Types. The inbuilt .duplicated() method also came in handy when it came to checking the for the presence of duplicate rows in all dataframes. However, the duplicated() method couldn’t be used to detect duplicate retweets that were in form of retweets because they too had unique tweet_id identifiers. The only possible to remove these retweets was through locating tweets with values in the retweeted_status_id column and dropping the from the dataframe.  After cleaning the identified Data Quality issues, I proceeded to the moulding stage where I reshaped the archived dataframe to improve tidiness. I shifted the variables that had been used as column names into variables under a single column. </p>\n",
    "<p>After ensuring that everything was in order, I concatenated the three dataframes into a single table that I wrote into a master CSV file in my local storage.  </p>\n"
   ]
  }
 ],
 "metadata": {
  "kernelspec": {
   "display_name": "Python 3 (ipykernel)",
   "language": "python",
   "name": "python3"
  },
  "language_info": {
   "codemirror_mode": {
    "name": "ipython",
    "version": 3
   },
   "file_extension": ".py",
   "mimetype": "text/x-python",
   "name": "python",
   "nbconvert_exporter": "python",
   "pygments_lexer": "ipython3",
   "version": "3.9.12"
  }
 },
 "nbformat": 4,
 "nbformat_minor": 2
}
